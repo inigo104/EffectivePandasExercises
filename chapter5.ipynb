{
 "cells": [
  {
   "attachments": {},
   "cell_type": "markdown",
   "metadata": {},
   "source": [
    "## 5.4 Exercises pag34"
   ]
  },
  {
   "cell_type": "code",
   "execution_count": 16,
   "metadata": {},
   "outputs": [
    {
     "data": {
      "text/plain": [
       "'2.0.3'"
      ]
     },
     "execution_count": 16,
     "metadata": {},
     "output_type": "execute_result"
    }
   ],
   "source": [
    "import pandas as pd\n",
    "pd.__version__"
   ]
  },
  {
   "cell_type": "code",
   "execution_count": 31,
   "metadata": {},
   "outputs": [
    {
     "name": "stdout",
     "output_type": "stream",
     "text": [
      "\u001b[1;31mSignature:\u001b[0m\n",
      "\u001b[0ms\u001b[0m\u001b[1;33m.\u001b[0m\u001b[0many\u001b[0m\u001b[1;33m(\u001b[0m\u001b[1;33m\n",
      "\u001b[0m    \u001b[1;33m*\u001b[0m\u001b[1;33m,\u001b[0m\u001b[1;33m\n",
      "\u001b[0m    \u001b[0maxis\u001b[0m\u001b[1;33m:\u001b[0m \u001b[1;34m'Axis'\u001b[0m \u001b[1;33m=\u001b[0m \u001b[1;36m0\u001b[0m\u001b[1;33m,\u001b[0m\u001b[1;33m\n",
      "\u001b[0m    \u001b[0mbool_only\u001b[0m\u001b[1;33m=\u001b[0m\u001b[1;32mNone\u001b[0m\u001b[1;33m,\u001b[0m\u001b[1;33m\n",
      "\u001b[0m    \u001b[0mskipna\u001b[0m\u001b[1;33m:\u001b[0m \u001b[1;34m'bool_t'\u001b[0m \u001b[1;33m=\u001b[0m \u001b[1;32mTrue\u001b[0m\u001b[1;33m,\u001b[0m\u001b[1;33m\n",
      "\u001b[0m    \u001b[1;33m**\u001b[0m\u001b[0mkwargs\u001b[0m\u001b[1;33m,\u001b[0m\u001b[1;33m\n",
      "\u001b[0m\u001b[1;33m)\u001b[0m\u001b[1;33m\u001b[0m\u001b[1;33m\u001b[0m\u001b[0m\n",
      "\u001b[1;31mDocstring:\u001b[0m\n",
      "Return whether any element is True, potentially over an axis.\n",
      "\n",
      "Returns False unless there is at least one element within a series or\n",
      "along a Dataframe axis that is True or equivalent (e.g. non-zero or\n",
      "non-empty).\n",
      "\n",
      "Parameters\n",
      "----------\n",
      "axis : {0 or 'index', 1 or 'columns', None}, default 0\n",
      "    Indicate which axis or axes should be reduced. For `Series` this parameter\n",
      "    is unused and defaults to 0.\n",
      "\n",
      "    * 0 / 'index' : reduce the index, return a Series whose index is the\n",
      "      original column labels.\n",
      "    * 1 / 'columns' : reduce the columns, return a Series whose index is the\n",
      "      original index.\n",
      "    * None : reduce all axes, return a scalar.\n",
      "\n",
      "bool_only : bool, default None\n",
      "    Include only boolean columns. If None, will attempt to use everything,\n",
      "    then use only boolean data. Not implemented for Series.\n",
      "skipna : bool, default True\n",
      "    Exclude NA/null values. If the entire row/column is NA and skipna is\n",
      "    True, then the result will be False, as for an empty row/column.\n",
      "    If skipna is False, then NA are treated as True, because these are not\n",
      "    equal to zero.\n",
      "**kwargs : any, default None\n",
      "    Additional keywords have no effect but might be accepted for\n",
      "    compatibility with NumPy.\n",
      "\n",
      "Returns\n",
      "-------\n",
      "scalar or Series\n",
      "    If level is specified, then, Series is returned; otherwise, scalar\n",
      "    is returned.\n",
      "\n",
      "See Also\n",
      "--------\n",
      "numpy.any : Numpy version of this method.\n",
      "Series.any : Return whether any element is True.\n",
      "Series.all : Return whether all elements are True.\n",
      "DataFrame.any : Return whether any element is True over requested axis.\n",
      "DataFrame.all : Return whether all elements are True over requested axis.\n",
      "\n",
      "Examples\n",
      "--------\n",
      "**Series**\n",
      "\n",
      "For Series input, the output is a scalar indicating whether any element\n",
      "is True.\n",
      "\n",
      ">>> pd.Series([False, False]).any()\n",
      "False\n",
      ">>> pd.Series([True, False]).any()\n",
      "True\n",
      ">>> pd.Series([], dtype=\"float64\").any()\n",
      "False\n",
      ">>> pd.Series([np.nan]).any()\n",
      "False\n",
      ">>> pd.Series([np.nan]).any(skipna=False)\n",
      "True\n",
      "\n",
      "**DataFrame**\n",
      "\n",
      "Whether each column contains at least one True element (the default).\n",
      "\n",
      ">>> df = pd.DataFrame({\"A\": [1, 2], \"B\": [0, 2], \"C\": [0, 0]})\n",
      ">>> df\n",
      "   A  B  C\n",
      "0  1  0  0\n",
      "1  2  2  0\n",
      "\n",
      ">>> df.any()\n",
      "A     True\n",
      "B     True\n",
      "C    False\n",
      "dtype: bool\n",
      "\n",
      "Aggregating over the columns.\n",
      "\n",
      ">>> df = pd.DataFrame({\"A\": [True, False], \"B\": [1, 2]})\n",
      ">>> df\n",
      "       A  B\n",
      "0   True  1\n",
      "1  False  2\n",
      "\n",
      ">>> df.any(axis='columns')\n",
      "0    True\n",
      "1    True\n",
      "dtype: bool\n",
      "\n",
      ">>> df = pd.DataFrame({\"A\": [True, False], \"B\": [1, 0]})\n",
      ">>> df\n",
      "       A  B\n",
      "0   True  1\n",
      "1  False  0\n",
      "\n",
      ">>> df.any(axis='columns')\n",
      "0    True\n",
      "1    False\n",
      "dtype: bool\n",
      "\n",
      "Aggregating over the entire DataFrame with ``axis=None``.\n",
      "\n",
      ">>> df.any(axis=None)\n",
      "True\n",
      "\n",
      "`any` for an empty DataFrame is an empty Series.\n",
      "\n",
      ">>> pd.DataFrame([]).any()\n",
      "Series([], dtype: bool)\n",
      "\u001b[1;31mFile:\u001b[0m      c:\\users\\mini\\appdata\\local\\programs\\python\\python311\\lib\\site-packages\\pandas\\core\\generic.py\n",
      "\u001b[1;31mType:\u001b[0m      method"
     ]
    }
   ],
   "source": [
    "#1\n",
    "\n",
    "s = pd.Series([1, 2, 3])\n",
    "#s.dtype?\n",
    "#s.max?\n",
    "s.any?\n",
    "#help(df_dt['time'].dt)\n",
    "#help(df_str['text'].str)\n"
   ]
  },
  {
   "cell_type": "code",
   "execution_count": 18,
   "metadata": {},
   "outputs": [
    {
     "name": "stdout",
     "output_type": "stream",
     "text": [
      "99\n"
     ]
    }
   ],
   "source": [
    "#2\n",
    "\n",
    "df_str = pd.DataFrame({'text': ['apple', 'banana', 'cherry']})\n",
    "print(len(dir(df_str['text'].str)))\n",
    "\n"
   ]
  },
  {
   "cell_type": "code",
   "execution_count": 15,
   "metadata": {},
   "outputs": [
    {
     "name": "stdout",
     "output_type": "stream",
     "text": [
      "84\n"
     ]
    }
   ],
   "source": [
    "#3\n",
    "\n",
    "df_dt = pd.DataFrame({'time': pd.date_range(start='1/1/2021', periods=3, freq='D')})\n",
    "print(len(dir(df_dt['time'].dt)))\n"
   ]
  }
 ],
 "metadata": {
  "kernelspec": {
   "display_name": "Python 3",
   "language": "python",
   "name": "python3"
  },
  "language_info": {
   "codemirror_mode": {
    "name": "ipython",
    "version": 3
   },
   "file_extension": ".py",
   "mimetype": "text/x-python",
   "name": "python",
   "nbconvert_exporter": "python",
   "pygments_lexer": "ipython3",
   "version": "3.11.4"
  },
  "orig_nbformat": 4
 },
 "nbformat": 4,
 "nbformat_minor": 2
}
