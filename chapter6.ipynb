{
 "cells": [
  {
   "attachments": {},
   "cell_type": "markdown",
   "metadata": {},
   "source": [
    "## 6.9 Exercises pag42"
   ]
  },
  {
   "cell_type": "code",
   "execution_count": 1,
   "metadata": {},
   "outputs": [
    {
     "data": {
      "text/plain": [
       "'2.0.3'"
      ]
     },
     "execution_count": 1,
     "metadata": {},
     "output_type": "execute_result"
    }
   ],
   "source": [
    "import pandas as pd\n",
    "pd.__version__"
   ]
  },
  {
   "cell_type": "code",
   "execution_count": 3,
   "metadata": {},
   "outputs": [
    {
     "name": "stdout",
     "output_type": "stream",
     "text": [
      "0    2\n",
      "1    4\n",
      "2    6\n",
      "dtype: int64\n"
     ]
    }
   ],
   "source": [
    "#1\n",
    "\n",
    "s = pd.Series([1, 2, 3])\n",
    "\n",
    "r1 = s + s\n",
    "\n",
    "print(r1)"
   ]
  },
  {
   "cell_type": "code",
   "execution_count": 4,
   "metadata": {},
   "outputs": [
    {
     "name": "stdout",
     "output_type": "stream",
     "text": [
      "0    11\n",
      "1    12\n",
      "2    13\n",
      "dtype: int64\n"
     ]
    }
   ],
   "source": [
    "#2\n",
    "\n",
    "r2 = s + 10\n",
    "\n",
    "print(r2)"
   ]
  },
  {
   "cell_type": "code",
   "execution_count": 5,
   "metadata": {},
   "outputs": [
    {
     "name": "stdout",
     "output_type": "stream",
     "text": [
      "0    2\n",
      "1    4\n",
      "2    6\n",
      "dtype: int64\n"
     ]
    }
   ],
   "source": [
    "#3\n",
    "\n",
    "r3 = s.add(s)\n",
    "\n",
    "print(r3)"
   ]
  },
  {
   "cell_type": "code",
   "execution_count": 7,
   "metadata": {},
   "outputs": [
    {
     "name": "stdout",
     "output_type": "stream",
     "text": [
      "\u001b[1;31mSignature:\u001b[0m \u001b[0ms\u001b[0m\u001b[1;33m.\u001b[0m\u001b[0madd\u001b[0m\u001b[1;33m(\u001b[0m\u001b[0mother\u001b[0m\u001b[1;33m,\u001b[0m \u001b[0mlevel\u001b[0m\u001b[1;33m=\u001b[0m\u001b[1;32mNone\u001b[0m\u001b[1;33m,\u001b[0m \u001b[0mfill_value\u001b[0m\u001b[1;33m=\u001b[0m\u001b[1;32mNone\u001b[0m\u001b[1;33m,\u001b[0m \u001b[0maxis\u001b[0m\u001b[1;33m:\u001b[0m \u001b[1;34m'Axis'\u001b[0m \u001b[1;33m=\u001b[0m \u001b[1;36m0\u001b[0m\u001b[1;33m)\u001b[0m\u001b[1;33m\u001b[0m\u001b[1;33m\u001b[0m\u001b[0m\n",
      "\u001b[1;31mDocstring:\u001b[0m\n",
      "Return Addition of series and other, element-wise (binary operator `add`).\n",
      "\n",
      "Equivalent to ``series + other``, but with support to substitute a fill_value for\n",
      "missing data in either one of the inputs.\n",
      "\n",
      "Parameters\n",
      "----------\n",
      "other : Series or scalar value\n",
      "level : int or name\n",
      "    Broadcast across a level, matching Index values on the\n",
      "    passed MultiIndex level.\n",
      "fill_value : None or float value, default None (NaN)\n",
      "    Fill existing missing (NaN) values, and any new element needed for\n",
      "    successful Series alignment, with this value before computation.\n",
      "    If data in both corresponding Series locations is missing\n",
      "    the result of filling (at that location) will be missing.\n",
      "axis : {0 or 'index'}\n",
      "    Unused. Parameter needed for compatibility with DataFrame.\n",
      "\n",
      "Returns\n",
      "-------\n",
      "Series\n",
      "    The result of the operation.\n",
      "\n",
      "See Also\n",
      "--------\n",
      "Series.radd : Reverse of the Addition operator, see\n",
      "    `Python documentation\n",
      "    <https://docs.python.org/3/reference/datamodel.html#emulating-numeric-types>`_\n",
      "    for more details.\n",
      "\n",
      "Examples\n",
      "--------\n",
      ">>> a = pd.Series([1, 1, 1, np.nan], index=['a', 'b', 'c', 'd'])\n",
      ">>> a\n",
      "a    1.0\n",
      "b    1.0\n",
      "c    1.0\n",
      "d    NaN\n",
      "dtype: float64\n",
      ">>> b = pd.Series([1, np.nan, 1, np.nan], index=['a', 'b', 'd', 'e'])\n",
      ">>> b\n",
      "a    1.0\n",
      "b    NaN\n",
      "d    1.0\n",
      "e    NaN\n",
      "dtype: float64\n",
      ">>> a.add(b, fill_value=0)\n",
      "a    2.0\n",
      "b    1.0\n",
      "c    1.0\n",
      "d    1.0\n",
      "e    NaN\n",
      "dtype: float64\n",
      "\u001b[1;31mFile:\u001b[0m      c:\\users\\mini\\appdata\\local\\programs\\python\\python311\\lib\\site-packages\\pandas\\core\\ops\\__init__.py\n",
      "\u001b[1;31mType:\u001b[0m      method"
     ]
    }
   ],
   "source": [
    "#4\n",
    "# https://pandas.pydata.org/docs/reference/api/pandas.Series.add.html\n",
    "# https://pandas.pydata.org/docs/reference/api/pandas.DataFrame.add.html\n",
    "\n",
    "s.add?"
   ]
  }
 ],
 "metadata": {
  "kernelspec": {
   "display_name": "Python 3",
   "language": "python",
   "name": "python3"
  },
  "language_info": {
   "codemirror_mode": {
    "name": "ipython",
    "version": 3
   },
   "file_extension": ".py",
   "mimetype": "text/x-python",
   "name": "python",
   "nbconvert_exporter": "python",
   "pygments_lexer": "ipython3",
   "version": "3.11.4"
  },
  "orig_nbformat": 4
 },
 "nbformat": 4,
 "nbformat_minor": 2
}
