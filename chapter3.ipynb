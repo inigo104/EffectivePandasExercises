{
 "cells": [
  {
   "attachments": {},
   "cell_type": "markdown",
   "metadata": {},
   "source": [
    "## 3.2 Exercise pag16\n",
    "\n",
    "1) It depends on the number of columns and what I want to do with that data, from a \"Series\" to several \"DataFrames\".\n",
    "\n",
    "2) It depends on the number of columns and what I want to do with that data, from a \"Series\" to several \"DataFrames\"."
   ]
  }
 ],
 "metadata": {
  "kernelspec": {
   "display_name": "Python 3",
   "language": "python",
   "name": "python3"
  },
  "language_info": {
   "name": "python",
   "version": "3.11.3"
  },
  "orig_nbformat": 4
 },
 "nbformat": 4,
 "nbformat_minor": 2
}
